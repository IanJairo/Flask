{
  "nbformat": 4,
  "nbformat_minor": 0,
  "metadata": {
    "colab": {
      "name": "Aula3 - WEB2 - IFAL.ipynb",
      "provenance": [],
      "collapsed_sections": [],
      "authorship_tag": "ABX9TyOcaHMCICzK+caXFNnDUpdz",
      "include_colab_link": true
    },
    "kernelspec": {
      "name": "python3",
      "display_name": "Python 3"
    }
  },
  "cells": [
    {
      "cell_type": "markdown",
      "metadata": {
        "id": "view-in-github",
        "colab_type": "text"
      },
      "source": [
        "<a href=\"https://colab.research.google.com/github/IanJairo/Flask/blob/main/Aula3_WEB2_IFAL.ipynb\" target=\"_parent\"><img src=\"https://colab.research.google.com/assets/colab-badge.svg\" alt=\"Open In Colab\"/></a>"
      ]
    },
    {
      "cell_type": "code",
      "metadata": {
        "colab": {
          "base_uri": "https://localhost:8080/"
        },
        "id": "3lDdSn7Nvqq3",
        "outputId": "397d2a91-8b07-440c-c38c-0dcfdb889ee9"
      },
      "source": [
        "!pip install flask-ngrok"
      ],
      "execution_count": 4,
      "outputs": [
        {
          "output_type": "stream",
          "text": [
            "Collecting flask-ngrok\n",
            "  Downloading https://files.pythonhosted.org/packages/af/6c/f54cb686ad1129e27d125d182f90f52b32f284e6c8df58c1bae54fa1adbc/flask_ngrok-0.0.25-py3-none-any.whl\n",
            "Requirement already satisfied: requests in /usr/local/lib/python3.6/dist-packages (from flask-ngrok) (2.23.0)\n",
            "Requirement already satisfied: Flask>=0.8 in /usr/local/lib/python3.6/dist-packages (from flask-ngrok) (1.1.2)\n",
            "Requirement already satisfied: chardet<4,>=3.0.2 in /usr/local/lib/python3.6/dist-packages (from requests->flask-ngrok) (3.0.4)\n",
            "Requirement already satisfied: idna<3,>=2.5 in /usr/local/lib/python3.6/dist-packages (from requests->flask-ngrok) (2.10)\n",
            "Requirement already satisfied: urllib3!=1.25.0,!=1.25.1,<1.26,>=1.21.1 in /usr/local/lib/python3.6/dist-packages (from requests->flask-ngrok) (1.24.3)\n",
            "Requirement already satisfied: certifi>=2017.4.17 in /usr/local/lib/python3.6/dist-packages (from requests->flask-ngrok) (2020.12.5)\n",
            "Requirement already satisfied: itsdangerous>=0.24 in /usr/local/lib/python3.6/dist-packages (from Flask>=0.8->flask-ngrok) (1.1.0)\n",
            "Requirement already satisfied: Jinja2>=2.10.1 in /usr/local/lib/python3.6/dist-packages (from Flask>=0.8->flask-ngrok) (2.11.3)\n",
            "Requirement already satisfied: click>=5.1 in /usr/local/lib/python3.6/dist-packages (from Flask>=0.8->flask-ngrok) (7.1.2)\n",
            "Requirement already satisfied: Werkzeug>=0.15 in /usr/local/lib/python3.6/dist-packages (from Flask>=0.8->flask-ngrok) (1.0.1)\n",
            "Requirement already satisfied: MarkupSafe>=0.23 in /usr/local/lib/python3.6/dist-packages (from Jinja2>=2.10.1->Flask>=0.8->flask-ngrok) (1.1.1)\n",
            "Installing collected packages: flask-ngrok\n",
            "Successfully installed flask-ngrok-0.0.25\n"
          ],
          "name": "stdout"
        }
      ]
    },
    {
      "cell_type": "code",
      "metadata": {
        "colab": {
          "base_uri": "https://localhost:8080/"
        },
        "id": "5GYC6S_Hvd3q",
        "outputId": "41a74b4a-bb06-4277-8ef0-215d28b16290"
      },
      "source": [
        "!pip install Flask"
      ],
      "execution_count": 3,
      "outputs": [
        {
          "output_type": "stream",
          "text": [
            "Requirement already satisfied: Flask in /usr/local/lib/python3.6/dist-packages (1.1.2)\n",
            "Requirement already satisfied: itsdangerous>=0.24 in /usr/local/lib/python3.6/dist-packages (from Flask) (1.1.0)\n",
            "Requirement already satisfied: Werkzeug>=0.15 in /usr/local/lib/python3.6/dist-packages (from Flask) (1.0.1)\n",
            "Requirement already satisfied: click>=5.1 in /usr/local/lib/python3.6/dist-packages (from Flask) (7.1.2)\n",
            "Requirement already satisfied: Jinja2>=2.10.1 in /usr/local/lib/python3.6/dist-packages (from Flask) (2.11.3)\n",
            "Requirement already satisfied: MarkupSafe>=0.23 in /usr/local/lib/python3.6/dist-packages (from Jinja2>=2.10.1->Flask) (1.1.1)\n"
          ],
          "name": "stdout"
        }
      ]
    },
    {
      "cell_type": "code",
      "metadata": {
        "colab": {
          "base_uri": "https://localhost:8080/"
        },
        "id": "dqUbunJpv1Aa",
        "outputId": "0b3219a4-eef5-48e2-f583-ebd23f6ef6a5"
      },
      "source": [
        "from flask_ngrok import run_with_ngrok\r\n",
        "from flask import Flask, jsonify, Response, request\r\n",
        "\r\n",
        "\r\n",
        "app = Flask(__name__)\r\n",
        "run_with_ngrok(app)\r\n",
        "\r\n",
        "movies = [{\r\n",
        "           'id' : 10,\r\n",
        "           'titulo': 'Homem Aranha',\r\n",
        "           'ano': 2019,\r\n",
        "           'nota': 8\r\n",
        "           },\r\n",
        "          {\r\n",
        "           'id' : 11,\r\n",
        "           'titulo': 'Meu Filme Imaginário',\r\n",
        "           'ano': 2020,\r\n",
        "           'nota': 10\r\n",
        "           },\r\n",
        "          \r\n",
        "          {\r\n",
        "           'id' : 11,\r\n",
        "           'titulo': 'Tengo un montón de cosas para hacer',\r\n",
        "           'ano': 2021,\r\n",
        "           'nota': 10}]\r\n",
        "\r\n",
        "\r\n",
        "\r\n",
        "@app.route(\"/\")\r\n",
        "def index():\r\n",
        "  return \"olá mundo!\"\r\n",
        "\r\n",
        "@app.route(\"/api/v1/movies/\", methods=['GET'])\r\n",
        "def get_movies():\r\n",
        "  return jsonify(movies), 200\r\n",
        "\r\n",
        "@app.route(\"/api/v1/movies/<int:movie_id>\", methods=['GET'])\r\n",
        "def get_movie(movie_id):\r\n",
        "  for movie in movies:\r\n",
        "    if movie[\"id\"] == movie_id:\r\n",
        "      return movie, 200\r\n",
        "\r\n",
        "  return Response(status=400)\r\n",
        "\r\n",
        "@app.route(\"/api/v1/movies/\", methods=['POST'])\r\n",
        "def add_movie():\r\n",
        "  if not(request.is_json):\r\n",
        "    return Response.get_json() \r\n",
        "  movie = request.get_json()\r\n",
        "  movies.append(movie)\r\n",
        "\r\n",
        "  return Response(status=201)\r\n",
        "\r\n",
        "\r\n",
        "@app.route(\"/api/v1/movies/<int:movie_id>\", methods=['PUT'])\r\n",
        "def edit_movie(movie_id):\r\n",
        "  if not(request.is_json):\r\n",
        "    return Response(status=400) \r\n",
        "  for i, movie in enumerate(movies):\r\n",
        "    if movie[\"id\"] == movie_id:\r\n",
        "      movies[i] = request.get_json()\r\n",
        "      return Response(status=200)\r\n",
        "  return Response(status=404)\r\n",
        "\r\n",
        "@app.route(\"/api/v1/movies/<int:movie_id>\", methods=['DELETE'])\r\n",
        "def delete_movie(movie_id):\r\n",
        "  for i, movie in enumerate(movies):\r\n",
        "    if movie[\"id\"] == movie_id:\r\n",
        "      del movies[i]\r\n",
        "      return Response(status=200)\r\n",
        "  return Response(status=404)\r\n",
        "\r\n",
        "\r\n",
        "\r\n",
        "if __name__ == \"__main__\":\r\n",
        "  app.run()"
      ],
      "execution_count": 40,
      "outputs": [
        {
          "output_type": "stream",
          "text": [
            " * Serving Flask app \"__main__\" (lazy loading)\n",
            " * Environment: production\n",
            "\u001b[31m   WARNING: This is a development server. Do not use it in a production deployment.\u001b[0m\n",
            "\u001b[2m   Use a production WSGI server instead.\u001b[0m\n",
            " * Debug mode: off\n"
          ],
          "name": "stdout"
        },
        {
          "output_type": "stream",
          "text": [
            " * Running on http://127.0.0.1:5000/ (Press CTRL+C to quit)\n"
          ],
          "name": "stderr"
        },
        {
          "output_type": "stream",
          "text": [
            " * Running on http://5cc47b75d16a.ngrok.io\n",
            " * Traffic stats available on http://127.0.0.1:4040\n"
          ],
          "name": "stdout"
        },
        {
          "output_type": "stream",
          "text": [
            "127.0.0.1 - - [09/Feb/2021 22:52:15] \"\u001b[37mDELETE /api/v1/movies/10 HTTP/1.1\u001b[0m\" 200 -\n",
            "127.0.0.1 - - [09/Feb/2021 22:52:15] \"\u001b[31m\u001b[1mGET /api/v1/movies/10 HTTP/1.1\u001b[0m\" 400 -\n",
            "127.0.0.1 - - [09/Feb/2021 22:52:28] \"\u001b[33mDELETE /api/v1/movies/10 HTTP/1.1\u001b[0m\" 404 -\n",
            "127.0.0.1 - - [09/Feb/2021 22:52:28] \"\u001b[37mGET /api/v1/movies/ HTTP/1.1\u001b[0m\" 200 -\n",
            "127.0.0.1 - - [09/Feb/2021 22:52:45] \"\u001b[37mDELETE /api/v1/movies/11 HTTP/1.1\u001b[0m\" 200 -\n",
            "127.0.0.1 - - [09/Feb/2021 22:52:45] \"\u001b[37mGET /api/v1/movies/ HTTP/1.1\u001b[0m\" 200 -\n"
          ],
          "name": "stderr"
        }
      ]
    }
  ]
}